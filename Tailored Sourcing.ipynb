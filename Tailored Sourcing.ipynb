{
 "cells": [
  {
   "cell_type": "code",
   "execution_count": 1,
   "id": "d29ba632",
   "metadata": {},
   "outputs": [],
   "source": [
    "import math"
   ]
  },
  {
   "cell_type": "markdown",
   "id": "c06e0cc5",
   "metadata": {},
   "source": [
    "### EOQ Calculation"
   ]
  },
  {
   "cell_type": "code",
   "execution_count": 2,
   "id": "ddf2717c",
   "metadata": {},
   "outputs": [],
   "source": [
    "def calculate_eoq(demand, common_ordering_cost, specific_ordering_cost, unit_cost, holding_cost_rate):\n",
    "    eoq = math.sqrt((2 * demand * (common_ordering_cost + specific_ordering_cost)) / holding_cost_rate)\n",
    "    return eoq"
   ]
  },
  {
   "cell_type": "markdown",
   "id": "079cea26",
   "metadata": {},
   "source": [
    "### Annual Operational Cost Calculation"
   ]
  },
  {
   "cell_type": "code",
   "execution_count": 3,
   "id": "f415a106",
   "metadata": {},
   "outputs": [],
   "source": [
    "# Function to calculate annual operational cost\n",
    "def calculate_annual_cost(eoq, demand, common_ordering_cost, specific_ordering_cost, unit_cost, holding_cost_rate):\n",
    "    order_cycle = demand / eoq\n",
    "    ordering_cost = (demand / eoq) * (common_ordering_cost + specific_ordering_cost)\n",
    "    holding_cost = 0.5 * eoq * holding_cost_rate\n",
    "    total_cost = ordering_cost + holding_cost + demand * unit_cost\n",
    "    return total_cost"
   ]
  },
  {
   "cell_type": "markdown",
   "id": "0ed9f7e7",
   "metadata": {},
   "source": [
    "### Product Information"
   ]
  },
  {
   "cell_type": "code",
   "execution_count": 4,
   "id": "812852fc",
   "metadata": {},
   "outputs": [
    {
     "data": {
      "text/plain": [
       "[{'product': 1,\n",
       "  'demand': 1000,\n",
       "  'common_ordering_cost': 100,\n",
       "  'specific_ordering_cost': 10,\n",
       "  'unit_cost': 50,\n",
       "  'holding_cost_rate': 0.2},\n",
       " {'product': 2,\n",
       "  'demand': 300,\n",
       "  'common_ordering_cost': 100,\n",
       "  'specific_ordering_cost': 20,\n",
       "  'unit_cost': 60,\n",
       "  'holding_cost_rate': 0.2},\n",
       " {'product': 3,\n",
       "  'demand': 100,\n",
       "  'common_ordering_cost': 100,\n",
       "  'specific_ordering_cost': 25,\n",
       "  'unit_cost': 30,\n",
       "  'holding_cost_rate': 0.2},\n",
       " {'product': 4,\n",
       "  'demand': 50,\n",
       "  'common_ordering_cost': 100,\n",
       "  'specific_ordering_cost': 25,\n",
       "  'unit_cost': 30,\n",
       "  'holding_cost_rate': 0.2}]"
      ]
     },
     "execution_count": 4,
     "metadata": {},
     "output_type": "execute_result"
    }
   ],
   "source": [
    "products = [\n",
    "    {\"product\": 1, \"demand\": 1000, \"common_ordering_cost\": 100, \"specific_ordering_cost\": 10, \"unit_cost\": 50, \"holding_cost_rate\": 0.2},\n",
    "    {\"product\": 2, \"demand\": 300, \"common_ordering_cost\": 100, \"specific_ordering_cost\": 20, \"unit_cost\": 60, \"holding_cost_rate\": 0.2},\n",
    "    {\"product\": 3, \"demand\": 100, \"common_ordering_cost\": 100, \"specific_ordering_cost\": 25, \"unit_cost\": 30, \"holding_cost_rate\": 0.2},\n",
    "    {\"product\": 4, \"demand\": 50, \"common_ordering_cost\": 100, \"specific_ordering_cost\": 25, \"unit_cost\": 30, \"holding_cost_rate\": 0.2},\n",
    "]\n",
    "products"
   ]
  },
  {
   "cell_type": "markdown",
   "id": "de6464eb",
   "metadata": {},
   "source": [
    "### Scenario 1: Products are sourced independently"
   ]
  },
  {
   "cell_type": "code",
   "execution_count": 5,
   "id": "8d3c5b58",
   "metadata": {},
   "outputs": [],
   "source": [
    "total_cost_scenario_1 = sum(\n",
    "    calculate_annual_cost(\n",
    "        calculate_eoq(product[\"demand\"], product[\"common_ordering_cost\"], product[\"specific_ordering_cost\"],\n",
    "                      product[\"unit_cost\"], product[\"holding_cost_rate\"]),\n",
    "        product[\"demand\"], product[\"common_ordering_cost\"], product[\"specific_ordering_cost\"],\n",
    "        product[\"unit_cost\"], product[\"holding_cost_rate\"]\n",
    "    ) for product in products\n",
    ")"
   ]
  },
  {
   "cell_type": "markdown",
   "id": "efabb066",
   "metadata": {},
   "source": [
    "### Scenario 2: All four products are sourced with the same frequency"
   ]
  },
  {
   "cell_type": "code",
   "execution_count": 6,
   "id": "73e06684",
   "metadata": {},
   "outputs": [],
   "source": [
    "total_cost_scenario_2 = calculate_annual_cost(\n",
    "    calculate_eoq(sum(product[\"demand\"] for product in products),\n",
    "                  products[0][\"common_ordering_cost\"], products[0][\"specific_ordering_cost\"],\n",
    "                  products[0][\"unit_cost\"], products[0][\"holding_cost_rate\"]),\n",
    "    sum(product[\"demand\"] for product in products),\n",
    "    products[0][\"common_ordering_cost\"], products[0][\"specific_ordering_cost\"],\n",
    "    products[0][\"unit_cost\"], products[0][\"holding_cost_rate\"]\n",
    ")"
   ]
  },
  {
   "cell_type": "markdown",
   "id": "37632af6",
   "metadata": {},
   "source": [
    "### Scenario 3: Order frequencies are determined according to the tailored aggregation strategy"
   ]
  },
  {
   "cell_type": "code",
   "execution_count": 7,
   "id": "89e490b8",
   "metadata": {},
   "outputs": [],
   "source": [
    "total_cost_scenario_3 = sum(\n",
    "    calculate_annual_cost(\n",
    "        calculate_eoq(sum(product[\"demand\"] for product in products),\n",
    "                      product[\"common_ordering_cost\"], product[\"specific_ordering_cost\"],\n",
    "                      product[\"unit_cost\"], product[\"holding_cost_rate\"]),\n",
    "        sum(product[\"demand\"] for product in products),\n",
    "        product[\"common_ordering_cost\"], product[\"specific_ordering_cost\"],\n",
    "        product[\"unit_cost\"], product[\"holding_cost_rate\"]\n",
    "    ) for product in products\n",
    ")"
   ]
  },
  {
   "cell_type": "markdown",
   "id": "002db527",
   "metadata": {},
   "source": [
    "### Answers"
   ]
  },
  {
   "cell_type": "code",
   "execution_count": 8,
   "id": "54668230",
   "metadata": {},
   "outputs": [
    {
     "name": "stdout",
     "output_type": "stream",
     "text": [
      "Scenario 1 - Total Annual Operational Cost: 72950.47244775269\n",
      "Scenario 2 - Total Annual Operational Cost: 72752.58661880631\n",
      "Scenario 3 - Total Annual Operational Cost: 247554.92121868522\n"
     ]
    }
   ],
   "source": [
    "print(\"Scenario 1 - Total Annual Operational Cost:\", total_cost_scenario_1)\n",
    "print(\"Scenario 2 - Total Annual Operational Cost:\", total_cost_scenario_2)\n",
    "print(\"Scenario 3 - Total Annual Operational Cost:\", total_cost_scenario_3)"
   ]
  }
 ],
 "metadata": {
  "kernelspec": {
   "display_name": "Python 3 (ipykernel)",
   "language": "python",
   "name": "python3"
  },
  "language_info": {
   "codemirror_mode": {
    "name": "ipython",
    "version": 3
   },
   "file_extension": ".py",
   "mimetype": "text/x-python",
   "name": "python",
   "nbconvert_exporter": "python",
   "pygments_lexer": "ipython3",
   "version": "3.10.13"
  }
 },
 "nbformat": 4,
 "nbformat_minor": 5
}
